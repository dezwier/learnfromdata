{
 "cells": [
  {
   "attachments": {},
   "cell_type": "markdown",
   "metadata": {},
   "source": [
    "## Imports"
   ]
  },
  {
   "cell_type": "code",
   "execution_count": null,
   "metadata": {},
   "outputs": [],
   "source": [
    "import lfd\n",
    "import pandas as pd\n",
    "import numpy as np"
   ]
  },
  {
   "cell_type": "code",
   "execution_count": null,
   "metadata": {},
   "outputs": [],
   "source": [
    "DATASET = 'Titanic'\n",
    "TARGET = 'Survived'\n",
    "SET_ASIDE = [TARGET]\n",
    "MODE = 'binaryclass'"
   ]
  },
  {
   "attachments": {},
   "cell_type": "markdown",
   "metadata": {},
   "source": [
    "## Data"
   ]
  },
  {
   "cell_type": "code",
   "execution_count": null,
   "metadata": {},
   "outputs": [],
   "source": [
    "data = lfd.Data(f'../../learnfromdata_new/datasets/tabular/titanic')\n",
    "data.set_dtypes()\n",
    "data"
   ]
  },
  {
   "cell_type": "code",
   "execution_count": null,
   "metadata": {},
   "outputs": [],
   "source": [
    "params = dict(\n",
    "    set_aside = SET_ASIDE,\n",
    "    data = dict(\n",
    "        add_noise = dict(seed=0),\n",
    "        test_split = dict(test_size=0.3, stratify_col=None, seed=0),\n",
    "        train_balance = dict(target=TARGET, seed=0, stratified=None, counts={0: 1000, 1: 1000}),\n",
    "    ),\n",
    "    transform = dict(\n",
    "        uniselector = dict(min_occ=0.01, max_occ=0.99),\n",
    "        encoder = dict(min_occ=0.001, method='target', target=TARGET),\n",
    "        biselector = dict(threshold=0.8, target=TARGET),\n",
    "    ),\n",
    "    model = dict(\n",
    "        target=TARGET, mode=MODE, seed_train=0,\n",
    "        base0 = dict(algorithm='xgboost', name='Xgboost', hyper_params=dict(\n",
    "            n_estimators=100, max_depth=6\n",
    "        )),\n",
    "        calibrate = dict(algorithm='regression', hyper_params=dict()),\n",
    "    ),\n",
    ")"
   ]
  },
  {
   "cell_type": "code",
   "execution_count": null,
   "metadata": {},
   "outputs": [],
   "source": [
    "pipe = lfd.Pipeline(name=f'{DATASET}_{TARGET}').learn(\n",
    "    params, data=data.copy(), evaluate=True, explain=True, cutoff_params=dict(fix_flags=[0.2, 0.6]))"
   ]
  },
  {
   "cell_type": "code",
   "execution_count": null,
   "metadata": {},
   "outputs": [],
   "source": [
    "pipe.save('../../experiments', slim=False, as_pickle=False)"
   ]
  },
  {
   "attachments": {},
   "cell_type": "markdown",
   "metadata": {},
   "source": [
    "## Evaluation"
   ]
  },
  {
   "cell_type": "code",
   "execution_count": null,
   "metadata": {},
   "outputs": [],
   "source": [
    "model = pipe.cal_models['Xgboost']\n",
    "test_target = model.predictions.df.loc['Test', 'target'].value_counts().sort_index().rename('Actual (test set)')\n",
    "test_preds = model.predictions.df.loc['Test', 'scores'].value_counts().sort_index().rename('Predicted (test set)')\n",
    "shapvalues = pipe.models['Xgboost'].shapvalues.abs().mean().sort_values(ascending=False)"
   ]
  },
  {
   "cell_type": "code",
   "execution_count": null,
   "metadata": {},
   "outputs": [],
   "source": [
    "plotter = lfd.PlotterModel(theme='dark')"
   ]
  },
  {
   "cell_type": "code",
   "execution_count": null,
   "metadata": {},
   "outputs": [],
   "source": [
    "model.predictions"
   ]
  },
  {
   "cell_type": "code",
   "execution_count": null,
   "metadata": {},
   "outputs": [],
   "source": [
    "plotter.confusion_heatmaps(model.confusion)"
   ]
  },
  {
   "cell_type": "code",
   "execution_count": null,
   "metadata": {},
   "outputs": [],
   "source": [
    "model.metrics"
   ]
  },
  {
   "cell_type": "code",
   "execution_count": null,
   "metadata": {},
   "outputs": [],
   "source": [
    "shapvalues"
   ]
  },
  {
   "cell_type": "code",
   "execution_count": null,
   "metadata": {},
   "outputs": [],
   "source": [
    "plotter.plot_barchart(shapvalues.head(20), title='')"
   ]
  },
  {
   "cell_type": "code",
   "execution_count": null,
   "metadata": {},
   "outputs": [],
   "source": [
    "plotter.histogram(\n",
    "    pipe.cal_models['Xgboost'].predictions.df.loc['Test'].scores, \n",
    "    pipe.models['Xgboost'].predictions.df.loc['Test'].scores, \n",
    "    pipe.models['Xgboost'].predictions.df.loc['Test'].target, \n",
    "    bins=5)"
   ]
  },
  {
   "cell_type": "code",
   "execution_count": null,
   "metadata": {},
   "outputs": [],
   "source": []
  }
 ],
 "metadata": {
  "interpreter": {
   "hash": "cdcf78662290a5d38caa095ea8726f573c25613098cce55fbf78c21b4d772aa4"
  },
  "kernelspec": {
   "display_name": "Python 3",
   "language": "python",
   "name": "python3"
  },
  "language_info": {
   "codemirror_mode": {
    "name": "ipython",
    "version": 3
   },
   "file_extension": ".py",
   "mimetype": "text/x-python",
   "name": "python",
   "nbconvert_exporter": "python",
   "pygments_lexer": "ipython3",
   "version": "3.9.18"
  },
  "vscode": {
   "interpreter": {
    "hash": "0d3b036bd79e85f84cae0ba01a2da779369df343e5207183dc018dee967c7d17"
   }
  }
 },
 "nbformat": 4,
 "nbformat_minor": 4
}

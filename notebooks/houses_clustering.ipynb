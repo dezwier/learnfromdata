{
 "cells": [
  {
   "attachments": {},
   "cell_type": "markdown",
   "metadata": {},
   "source": [
    "## Imports"
   ]
  },
  {
   "cell_type": "code",
   "execution_count": null,
   "metadata": {},
   "outputs": [],
   "source": [
    "import lfd\n",
    "import pandas as pd\n",
    "import numpy as np"
   ]
  },
  {
   "cell_type": "code",
   "execution_count": null,
   "metadata": {},
   "outputs": [],
   "source": [
    "DATASET = 'Houses'\n",
    "SET_ASIDE = []\n",
    "MODE = 'clustering'"
   ]
  },
  {
   "attachments": {},
   "cell_type": "markdown",
   "metadata": {},
   "source": [
    "## Data"
   ]
  },
  {
   "cell_type": "code",
   "execution_count": null,
   "metadata": {},
   "outputs": [],
   "source": [
    "data = lfd.Data(f'../../learnfromdata_new/datasets/tabular/{DATASET.lower()}')\n",
    "data.set_dtypes()\n",
    "data.df.head(3)"
   ]
  },
  {
   "cell_type": "code",
   "execution_count": null,
   "metadata": {},
   "outputs": [],
   "source": [
    "data.df.describe()"
   ]
  },
  {
   "cell_type": "code",
   "execution_count": null,
   "metadata": {},
   "outputs": [],
   "source": [
    "params = dict(\n",
    "    set_aside = SET_ASIDE,\n",
    "    data = dict(\n",
    "        add_noise = dict(seed=0),\n",
    "        test_split = dict(test_size=0.2, stratify_col=None, seed=0),\n",
    "        valid_split = dict(test_size=0.2, stratify_col=None, seed=0),\n",
    "    ),\n",
    "    transform = dict(\n",
    "        uniselector = dict(min_occ=0.01, max_occ=0.99),\n",
    "        imputer = dict(default_cat='MISSING', default_cont='median'),\n",
    "        encoder = dict(min_occ=0.05, method='target', target='SalePrice'),\n",
    "        biselector = dict(threshold=0.8),\n",
    "        standardizer = dict(),\n",
    "    ),\n",
    "    model = dict(\n",
    "        mode=MODE, seed_train=0,\n",
    "        base0 = dict(algorithm='gaussianmixture', name='GM', hyper_params=dict(\n",
    "            n_components=5\n",
    "        )),\n",
    "    ),\n",
    ")"
   ]
  },
  {
   "cell_type": "code",
   "execution_count": null,
   "metadata": {},
   "outputs": [],
   "source": [
    "pipe = lfd.Pipeline(name=f'{DATASET}_clustering').learn(\n",
    "    params, data=data.copy(), evaluate=False, explain=False)"
   ]
  },
  {
   "attachments": {},
   "cell_type": "markdown",
   "metadata": {},
   "source": [
    "## Evaluation"
   ]
  },
  {
   "cell_type": "code",
   "execution_count": null,
   "metadata": {},
   "outputs": [],
   "source": [
    "model = pipe.models['GM']"
   ]
  },
  {
   "cell_type": "code",
   "execution_count": null,
   "metadata": {},
   "outputs": [],
   "source": [
    "model.predictions.df"
   ]
  },
  {
   "cell_type": "code",
   "execution_count": null,
   "metadata": {},
   "outputs": [],
   "source": [
    "model.clf.aic(pipe.data.df.loc['Test'])"
   ]
  },
  {
   "cell_type": "code",
   "execution_count": null,
   "metadata": {},
   "outputs": [],
   "source": [
    "plotter = lfd.PlotterModel(theme='dark')"
   ]
  },
  {
   "cell_type": "code",
   "execution_count": null,
   "metadata": {},
   "outputs": [],
   "source": [
    "plotter.scatter(\n",
    "    pipe.data.df.loc['Test', 'SalePrice'], \n",
    "    pipe.data.df.loc['Test', 'LotArea'], \n",
    "    model.predictions.df.loc['Test', 'predictions'], \n",
    ")"
   ]
  },
  {
   "cell_type": "code",
   "execution_count": null,
   "metadata": {},
   "outputs": [],
   "source": [
    "plotter.histogram(\n",
    "    model.predictions.select('Train').df.predictions, \n",
    "    model.predictions.select('Test').df.predictions, \n",
    "    bins=100, normalize=True\n",
    ")"
   ]
  },
  {
   "cell_type": "code",
   "execution_count": null,
   "metadata": {},
   "outputs": [],
   "source": [
    "model.feature_imp.sort_values('cluster_all', ascending=False)"
   ]
  },
  {
   "cell_type": "code",
   "execution_count": null,
   "metadata": {},
   "outputs": [],
   "source": [
    "pipe.data.df.groupby(model.predictions.df.predictions).median().std().sort_values()"
   ]
  },
  {
   "cell_type": "code",
   "execution_count": null,
   "metadata": {},
   "outputs": [],
   "source": []
  }
 ],
 "metadata": {
  "interpreter": {
   "hash": "cdcf78662290a5d38caa095ea8726f573c25613098cce55fbf78c21b4d772aa4"
  },
  "kernelspec": {
   "display_name": "Python [conda env:conda-sinatra]",
   "language": "python",
   "name": "python3"
  },
  "language_info": {
   "codemirror_mode": {
    "name": "ipython",
    "version": 3
   },
   "file_extension": ".py",
   "mimetype": "text/x-python",
   "name": "python",
   "nbconvert_exporter": "python",
   "pygments_lexer": "ipython3",
   "version": "3.9.18"
  },
  "vscode": {
   "interpreter": {
    "hash": "0d3b036bd79e85f84cae0ba01a2da779369df343e5207183dc018dee967c7d17"
   }
  }
 },
 "nbformat": 4,
 "nbformat_minor": 4
}

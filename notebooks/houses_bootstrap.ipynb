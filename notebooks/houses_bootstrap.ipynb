{
 "cells": [
  {
   "cell_type": "markdown",
   "metadata": {},
   "source": [
    "## Imports"
   ]
  },
  {
   "cell_type": "code",
   "execution_count": null,
   "metadata": {},
   "outputs": [],
   "source": [
    "import lfd\n",
    "import pandas as pd\n",
    "import numpy as np\n",
    "logparams = dict(stdout_level='ERROR')\n",
    "lfd.set_logging(**logparams)"
   ]
  },
  {
   "cell_type": "code",
   "execution_count": null,
   "metadata": {},
   "outputs": [],
   "source": [
    "DATASET = 'Houses'\n",
    "TARGET = 'SalePrice'\n",
    "SET_ASIDE = [TARGET]\n",
    "MODE = 'linear'"
   ]
  },
  {
   "cell_type": "markdown",
   "metadata": {},
   "source": [
    "## Data"
   ]
  },
  {
   "cell_type": "code",
   "execution_count": null,
   "metadata": {},
   "outputs": [],
   "source": [
    "data = lfd.Data(f'../../learnfromdata_new/datasets/tabular/{DATASET.lower()}')\n",
    "data.set_dtypes()\n",
    "data"
   ]
  },
  {
   "cell_type": "code",
   "execution_count": null,
   "metadata": {},
   "outputs": [],
   "source": [
    "np.random.seed(10)\n",
    "\n",
    "all_params = dict(\n",
    "    set_aside = SET_ASIDE,\n",
    "    data = dict(\n",
    "        add_noise = dict(seed=0),\n",
    "        test_split = dict(test_size=0.2, stratify_col=None, seed=0),\n",
    "        valid_split = dict(test_size=0.2, stratify_col=None, seed=0),\n",
    "    ),\n",
    "    transform = dict(\n",
    "        uniselector = dict(min_occ=0.01, max_occ=0.99),\n",
    "        encoder = dict(min_occ=0.001, method='target', target=TARGET),\n",
    "        biselector = dict(threshold=0.8, target=TARGET),\n",
    "    ),\n",
    "    model = dict(\n",
    "        target=TARGET, mode=MODE, seed_train=0,\n",
    "        base0 = dict(algorithm='xgboost', name='Xgboost', hyper_params=dict(\n",
    "            n_estimators=np.arange(5, 100), max_depth=np.arange(6, 11),\n",
    "        )),\n",
    "        calibrate = dict(algorithm='isotonic', hyper_params=dict(method='quantile')),\n",
    "    ),\n",
    ")"
   ]
  },
  {
   "cell_type": "code",
   "execution_count": null,
   "metadata": {},
   "outputs": [],
   "source": [
    "boot = lfd.Bootstrap(f'../../experiments/Bootstrap - {DATASET} - {TARGET}', logparams)\n",
    "boot.learn_pipelines(data.copy(), all_params, data_iters=5, model_iters=3)"
   ]
  },
  {
   "cell_type": "code",
   "execution_count": null,
   "metadata": {},
   "outputs": [],
   "source": [
    "meta = boot.get_meta(model='C_Xgboost', dataset='Test', metrics=None, predictions=None)\n",
    "meta"
   ]
  },
  {
   "cell_type": "code",
   "execution_count": null,
   "metadata": {},
   "outputs": [],
   "source": [
    "bins = 5\n",
    "conf = pd.crosstab(\n",
    "    meta.df['model|base0|hyper_params|max_depth'], \n",
    "    pd.cut(meta.df['model|base0|hyper_params|n_estimators'], bins, duplicates='drop'), \n",
    "    meta.df.c_index, aggfunc='mean').round(3)\n",
    "conf"
   ]
  },
  {
   "cell_type": "code",
   "execution_count": null,
   "metadata": {},
   "outputs": [],
   "source": []
  }
 ],
 "metadata": {
  "interpreter": {
   "hash": "cdcf78662290a5d38caa095ea8726f573c25613098cce55fbf78c21b4d772aa4"
  },
  "kernelspec": {
   "display_name": "Python [conda env:conda-sinatra]",
   "language": "python",
   "name": "python3"
  },
  "language_info": {
   "codemirror_mode": {
    "name": "ipython",
    "version": 3
   },
   "file_extension": ".py",
   "mimetype": "text/x-python",
   "name": "python",
   "nbconvert_exporter": "python",
   "pygments_lexer": "ipython3",
   "version": "3.9.18"
  },
  "vscode": {
   "interpreter": {
    "hash": "0d3b036bd79e85f84cae0ba01a2da779369df343e5207183dc018dee967c7d17"
   }
  }
 },
 "nbformat": 4,
 "nbformat_minor": 4
}

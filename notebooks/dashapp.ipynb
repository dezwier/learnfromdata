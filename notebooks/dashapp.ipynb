{
 "cells": [
  {
   "cell_type": "code",
   "execution_count": 1,
   "metadata": {},
   "outputs": [],
   "source": [
    "import lfd"
   ]
  },
  {
   "cell_type": "code",
   "execution_count": null,
   "metadata": {},
   "outputs": [],
   "source": [
    "lfd.run_app('../../experiments', host='0.0.0.0', port=8000)"
   ]
  },
  {
   "cell_type": "code",
   "execution_count": null,
   "metadata": {},
   "outputs": [],
   "source": [
    "lfd.run_app('../../datasets', host='0.0.0.0', port=8001)"
   ]
  },
  {
   "cell_type": "code",
   "execution_count": 2,
   "metadata": {},
   "outputs": [
    {
     "name": "stdout",
     "output_type": "stream",
     "text": [
      "<function PlotterVisual.plot_images at 0x1362cc160>\n",
      "<function PlotterVisual.plot_spaceholder at 0x1362cc1f0>\n",
      "<function PlotterGraph.plot_spaceholder at 0x1362d50d0>\n",
      "[2024-02-08 09:41:14] [INFO    ] -- Doc available at /Users/desiredewaele/git/learnfromdata/notebooks/doc.html\n"
     ]
    }
   ],
   "source": [
    "lfd.generate_doc()"
   ]
  },
  {
   "cell_type": "code",
   "execution_count": null,
   "metadata": {},
   "outputs": [],
   "source": []
  }
 ],
 "metadata": {
  "interpreter": {
   "hash": "cdcf78662290a5d38caa095ea8726f573c25613098cce55fbf78c21b4d772aa4"
  },
  "kernelspec": {
   "display_name": "Python 3.7.12 ('sinatra')",
   "language": "python",
   "name": "python3"
  },
  "language_info": {
   "codemirror_mode": {
    "name": "ipython",
    "version": 3
   },
   "file_extension": ".py",
   "mimetype": "text/x-python",
   "name": "python",
   "nbconvert_exporter": "python",
   "pygments_lexer": "ipython3",
   "version": "3.9.18"
  },
  "orig_nbformat": 4
 },
 "nbformat": 4,
 "nbformat_minor": 2
}

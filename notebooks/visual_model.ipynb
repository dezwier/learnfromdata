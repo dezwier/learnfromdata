{
 "cells": [
  {
   "attachments": {},
   "cell_type": "markdown",
   "metadata": {},
   "source": [
    "## Imports"
   ]
  },
  {
   "cell_type": "code",
   "execution_count": null,
   "metadata": {},
   "outputs": [],
   "source": [
    "import lfd\n",
    "import pandas as pd\n",
    "import numpy as np\n",
    "import shutil\n",
    "lfd.set_logging(stdout_level='INFO')\n",
    "pd.set_option('display.max_columns', None)  # Makes Pandas show all columns with showing tablesa\n",
    "pd.set_option('display.max_rows', 70)"
   ]
  },
  {
   "cell_type": "code",
   "execution_count": null,
   "metadata": {},
   "outputs": [],
   "source": [
    "%reload_ext autoreload\n",
    "%autoreload 2"
   ]
  },
  {
   "cell_type": "code",
   "execution_count": null,
   "metadata": {},
   "outputs": [],
   "source": [
    "DATASET = 'Mnist'\n",
    "TARGET = 'label'\n",
    "SET_ASIDE = [TARGET]"
   ]
  },
  {
   "cell_type": "code",
   "execution_count": null,
   "metadata": {},
   "outputs": [],
   "source": [
    "data = lfd.Visual().load(f'../../learnfromdata_new/datasets/visual/{DATASET.lower()}', load_images=True)"
   ]
  },
  {
   "cell_type": "code",
   "execution_count": null,
   "metadata": {},
   "outputs": [],
   "source": [
    "counts = data.df[TARGET].value_counts().to_dict()\n",
    "new_count = int(np.median(list(counts.values())))\n",
    "balance_params = dict(target=TARGET, seed=0, stratified=None, counts={k: new_count for k in counts.keys()})\n",
    "\n",
    "params = dict(\n",
    "    set_aside = SET_ASIDE,\n",
    "    data = dict(\n",
    "        add_noise = None,#dict(seed=0),\n",
    "        test_split = dict(test_size=0.2, stratify_col=None, seed=0),\n",
    "        train_balance = balance_params,\n",
    "        #valid_split = dict(test_size=0.2, stratify_col=None, seed=0),\n",
    "    ),\n",
    "    transform = dict(\n",
    "        # uniselector = dict(min_occ=0.01, max_occ=0.99),\n",
    "        # encoder = dict(min_occ=0.01, method='onehot', target=TARGET),\n",
    "        # biselector = dict(threshold=0.8, target=TARGET),\n",
    "    ),\n",
    "    model = dict(\n",
    "        target=TARGET, mode='multiclass', seed_train=0,\n",
    "        base0 = dict(algorithm='neuralnet', name='NeuralNet', \n",
    "            hyper_params=dict(\n",
    "                transfer_learning=None,#'https://tfhub.dev/google/imagenet/inception_v3/classification/4', \n",
    "                #transfer_learning='https://tfhub.dev/google/imagenet/efficientnet_v2_imagenet1k_s/classification/2', \n",
    "                epochs=10, activation='tanh', batch_size=16, learning_rate=0.01)),\n",
    "        calibrate = None\n",
    "    ),\n",
    ")"
   ]
  },
  {
   "cell_type": "code",
   "execution_count": null,
   "metadata": {},
   "outputs": [],
   "source": [
    "pipe = lfd.Pipeline(name=f'{DATASET}_{TARGET}').learn(\n",
    "    params, data=data, evaluate=True, explain=False)"
   ]
  },
  {
   "cell_type": "code",
   "execution_count": null,
   "metadata": {},
   "outputs": [],
   "source": [
    "pipe.save('../../experiments', slim=False, as_pickle=False)"
   ]
  },
  {
   "cell_type": "code",
   "execution_count": null,
   "metadata": {},
   "outputs": [],
   "source": [
    "pipe.models['NeuralNet'].metrics"
   ]
  },
  {
   "cell_type": "code",
   "execution_count": null,
   "metadata": {},
   "outputs": [],
   "source": [
    "pipe.models['NeuralNet'].confusion"
   ]
  },
  {
   "cell_type": "code",
   "execution_count": null,
   "metadata": {},
   "outputs": [],
   "source": [
    "raise"
   ]
  },
  {
   "cell_type": "code",
   "execution_count": null,
   "metadata": {},
   "outputs": [],
   "source": [
    "import folium\n",
    "import pandas as pd"
   ]
  },
  {
   "cell_type": "code",
   "execution_count": null,
   "metadata": {},
   "outputs": [],
   "source": [
    "import json\n",
    "with open('countries.geojson') as f:\n",
    "    coords = json.load(f)\n",
    "countries = [x['properties']['ADMIN'] for x in coords['features']]"
   ]
  },
  {
   "cell_type": "code",
   "execution_count": null,
   "metadata": {},
   "outputs": [],
   "source": [
    "timeseries = pd.read_csv('https://raw.githubusercontent.com/CSSEGISandData/COVID-19/master/csse_covid_19_data/csse_covid_19_time_series/time_series_covid19_confirmed_global.csv')\n",
    "timeseries.dropna(subset=['Lat', 'Long'], inplace=True)\n",
    "timeseries['location'] = timeseries[['Province/State', 'Country/Region']].bfill(axis=1).iloc[:, 0]\n",
    "timeseries = timeseries[timeseries.location.isin(countries)]"
   ]
  },
  {
   "cell_type": "code",
   "execution_count": null,
   "metadata": {},
   "outputs": [],
   "source": [
    "m = folium.Map(zoom_start = 10, tiles='cartodbdark_matter')\n",
    "#folium.TileLayer('https://tiles.stadiamaps.com/tiles/alidade_smooth_dark/{z}/{x}/{y}{r}.png').add_to(my_map)\n",
    "#folium.Marker(location=coords, popup='Location!',tooltip='Location', ).add_to(my_map)\n",
    "\n",
    "# add marker one by one on the map\n",
    "for i, row in timeseries.iterrows():\n",
    "   folium.Circle(\n",
    "      location=[row.Lat, row.Long],\n",
    "      tooltip=row.location + ' ' + str(row['1/22/21']),\n",
    "      radius=row['1/22/21']/20-1,\n",
    "      color='crimson',\n",
    "      fill=False,\n",
    "      fill_color='crimson'\n",
    "   ).add_to(m)\n",
    "# Show the map again\n",
    "m"
   ]
  },
  {
   "cell_type": "code",
   "execution_count": null,
   "metadata": {},
   "outputs": [],
   "source": [
    "m = folium.Map(zoom_start = 10, tiles='cartodbdark_matter')\n",
    "\n",
    "# generate choropleth map \n",
    "folium.Choropleth(\n",
    "    name=\"choropleth\",\n",
    "    geo_data='countries.geojson',\n",
    "    data=timeseries,\n",
    "    columns=['location', '12/2/21'],\n",
    "    key_on='properties.ADMIN',\n",
    "    fill_color='YlGn', \n",
    "    fill_opacity=0.3,\n",
    "    line_opacity=1,\n",
    "    legend_name='Births per 1000 inhabitants',\n",
    "    smooth_factor=0).add_to(m)\n",
    "\n",
    "# display map\n",
    "m\n"
   ]
  },
  {
   "cell_type": "code",
   "execution_count": null,
   "metadata": {},
   "outputs": [],
   "source": []
  }
 ],
 "metadata": {
  "interpreter": {
   "hash": "0f9a80414af3e30886321222f538d6ccc7380efae666cb290cb0c7e9f85219b0"
  },
  "kernelspec": {
   "display_name": "Python 3.9.7 ('advanced_analytics')",
   "language": "python",
   "name": "python3"
  },
  "language_info": {
   "codemirror_mode": {
    "name": "ipython",
    "version": 3
   },
   "file_extension": ".py",
   "mimetype": "text/x-python",
   "name": "python",
   "nbconvert_exporter": "python",
   "pygments_lexer": "ipython3",
   "version": "3.9.18"
  }
 },
 "nbformat": 4,
 "nbformat_minor": 4
}
